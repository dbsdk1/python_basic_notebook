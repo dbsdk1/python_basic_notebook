{
 "cells": [
  {
   "cell_type": "markdown",
   "id": "0544db91",
   "metadata": {},
   "source": [
    "## 컬렉션 타입\n",
    "- 변수 : 하나의 값을 저장할 수 있는 메모리 공간\n",
    "- 컬렉션 타입: 다양한 자료형의 여러값을 저장 가능\n",
    "- list, dict, tuple, set\n",
    "\n",
    "1. list[]\n",
    "- 시퀀스 자료형(연속 된 값 저장) -> 정렬 가능\n",
    "- mutable(생성 후 변경 가능)\n",
    "- index 사용 -> unpacking 가능\n",
    "- 멤버함수 : append(), extend(), insert(), remove(), pop(), sort() 등등\n",
    "\n",
    "2. tuple()\n",
    "- 시퀀스 자료형(연속 된 값 저장) -> 정렬 불가능\n",
    "- immutuable(생성 후 변경 불가능)\n",
    "- index 사용 -> slicing 가능\n",
    "- () 생략 가능\n",
    "- 1개의 원소만 가지는 경우 .사용 ->(1.)\n",
    "\n",
    "3. dict{key:value}\n",
    "- key, value 한 쌍으로 구성 된 구조\n",
    "- key를 통해서 value 접근\n",
    "- key 중복 불가, value 중복 가능\n",
    "- 순서 없음 -> index 없음 (가방 느낌)\n",
    "- 멤버함수 : update(), get(), keys(), values(), items()\n",
    "\n",
    "4. set{}\n",
    "- dict type에서 key만 활용하는 데이터 구조로 이해\n",
    "- 수학 집합과 같은 개념\n",
    "- 순서 없음 -> index 없음\n",
    "- set 구조 내 중복값 허용 안함!!!! 이거 외우기\n",
    "- 멤버함수 : union(), intersection(), difference() 등  \n",
    "\n",
    "리스트 튜플: 기차 / 딕트 세트: 항아리"
   ]
  },
  {
   "cell_type": "code",
   "execution_count": 1,
   "id": "a60a3625",
   "metadata": {},
   "outputs": [],
   "source": [
    "# list 초기화\n",
    "# 1. []\n",
    "# 2. list()\n",
    "\n",
    "list_a = []\n",
    "list_b = [1, 2, 3]\n",
    "list_c = [\"cnu\", 3.14, [1, 2, 3]]"
   ]
  },
  {
   "cell_type": "code",
   "execution_count": 2,
   "id": "772a8cc8",
   "metadata": {},
   "outputs": [
    {
     "name": "stdout",
     "output_type": "stream",
     "text": [
      "['H', 'e', 'l', 'l', 'o']\n",
      "[1, 2, 3]\n"
     ]
    }
   ],
   "source": [
    "str_a = \"Hello\"\n",
    "list_d = list(str_a)  # 문자열 -> list 형 변환\n",
    "print(list_d)\n",
    "\n",
    "tuple_a = (1, 2, 3)\n",
    "list_e = list(tuple_a)\n",
    "print(list_e)"
   ]
  },
  {
   "cell_type": "code",
   "execution_count": 1,
   "id": "32be9eaf",
   "metadata": {},
   "outputs": [
    {
     "name": "stdout",
     "output_type": "stream",
     "text": [
      "4\n",
      "[2, 3]\n",
      "[1, 2]\n"
     ]
    }
   ],
   "source": [
    "list_f = [1, 2, 3, 4, 5]\n",
    "print(list_f[3])  # 주의 3번째가 아니라 0부터 시작임\n",
    "print(list_f[1:3])\n",
    "print(list_f[:2])"
   ]
  },
  {
   "cell_type": "code",
   "execution_count": 4,
   "id": "b7a397d7",
   "metadata": {},
   "outputs": [
    {
     "name": "stdout",
     "output_type": "stream",
     "text": [
      "[1, 2, 3, 10]\n"
     ]
    }
   ],
   "source": [
    "# append() : list 마지막에 값을 추가\n",
    "a = [1, 2, 3]\n",
    "a.append(10)  # 마지막에 넣으니까 값만\n",
    "print(a)"
   ]
  },
  {
   "cell_type": "code",
   "execution_count": 3,
   "id": "ae0f3fac",
   "metadata": {},
   "outputs": [
    {
     "name": "stdout",
     "output_type": "stream",
     "text": [
      "[1, 99, 2, 3]\n"
     ]
    }
   ],
   "source": [
    "# insert() : list 원하는 인덱스 위치에 값을 추가\n",
    "a = [1, 2, 3]\n",
    "a.insert(1, 99)  # 인덱스 번호까지 해줘야함\n",
    "print(a)"
   ]
  },
  {
   "cell_type": "code",
   "execution_count": 6,
   "id": "b2ea7373",
   "metadata": {},
   "outputs": [
    {
     "name": "stdout",
     "output_type": "stream",
     "text": [
      "[1, 2, 3, [4, 5, 6]]\n"
     ]
    }
   ],
   "source": [
    "# extend() : list와 list 병합\n",
    "a = [1, 2, 3]\n",
    "b = [4, 5, 6]\n",
    "\n",
    "a.append(b)\n",
    "print(a)"
   ]
  },
  {
   "cell_type": "code",
   "execution_count": 6,
   "id": "382e9f8a",
   "metadata": {},
   "outputs": [
    {
     "name": "stdout",
     "output_type": "stream",
     "text": [
      "[1, 2, 3, 4, 5, 6]\n"
     ]
    }
   ],
   "source": [
    "a = [1, 2, 3]\n",
    "b = [4, 5, 6]\n",
    "# a.extend(b)\n",
    "a += b  # a = a + b \n",
    "print(a)"
   ]
  },
  {
   "cell_type": "code",
   "execution_count": 8,
   "id": "e9201b8a",
   "metadata": {},
   "outputs": [
    {
     "name": "stdout",
     "output_type": "stream",
     "text": [
      "[1, 3]\n"
     ]
    }
   ],
   "source": [
    "# remove(): 값을 통해서 삭제(인덱스 X) 실제 값으로 지움! 헷갈리지마셈\n",
    "a = [1, 2, 3]\n",
    "a.remove(2)\n",
    "print(a)"
   ]
  },
  {
   "cell_type": "code",
   "execution_count": 9,
   "id": "2bb307f4",
   "metadata": {},
   "outputs": [
    {
     "name": "stdout",
     "output_type": "stream",
     "text": [
      "[4, 5]\n",
      "6\n"
     ]
    }
   ],
   "source": [
    "# pop(): 인덱스를 통해서 삭제(+ 삭제 전 값을 변수에 저장 가능)\n",
    "a = [4, 5, 6]\n",
    "# a.pop(1)\n",
    "b = a.pop(2)\n",
    "print(a)\n",
    "print(b)"
   ]
  },
  {
   "cell_type": "code",
   "execution_count": 10,
   "id": "5efa4184",
   "metadata": {},
   "outputs": [
    {
     "name": "stdout",
     "output_type": "stream",
     "text": [
      "2\n"
     ]
    }
   ],
   "source": [
    "# index(): 찾고자 하는 값의 인덱스 번호 출력\n",
    "a = [8, 10, 20, 5, 3]\n",
    "print(a.index(20))"
   ]
  },
  {
   "cell_type": "code",
   "execution_count": 14,
   "id": "bc40aefc",
   "metadata": {},
   "outputs": [
    {
     "data": {
      "text/plain": [
       "'spkwnf081620'"
      ]
     },
     "execution_count": 14,
     "metadata": {},
     "output_type": "execute_result"
    }
   ],
   "source": [
    "email = \"spkwnf081620@naver.com\"\n",
    "\n",
    "email_idx = email.index(\"@\")\n",
    "email[:email_idx]"
   ]
  },
  {
   "cell_type": "code",
   "execution_count": 15,
   "id": "8e8feb5b",
   "metadata": {},
   "outputs": [
    {
     "name": "stdout",
     "output_type": "stream",
     "text": [
      "True\n",
      "False\n"
     ]
    }
   ],
   "source": [
    "# in: list에 해당 값이 존재(True, False)\n",
    "a = [1, 2, 3]\n",
    "print(3 in a)\n",
    "print(5 in a)"
   ]
  },
  {
   "cell_type": "code",
   "execution_count": 25,
   "id": "728785b4",
   "metadata": {},
   "outputs": [
    {
     "name": "stdout",
     "output_type": "stream",
     "text": [
      "[5, 4, 9, 2, 23, 18, 3, 7]\n",
      "[2, 3, 4, 5, 7, 9, 18, 23]\n",
      "==================================================\n",
      "[23, 18, 9, 7, 5, 4, 3, 2]\n"
     ]
    }
   ],
   "source": [
    "# sort() and sorted(): list 정렬 / 튜플에서는 안됨(한 번 만들면 안되기 때문)\n",
    "# - sort(): 원본 list 정렬 (원본 건들이면 안되오리)\n",
    "# - sorted(): list 복제 후 정렬\n",
    "\n",
    "a = [5, 4, 9, 2, 23, 18, 3, 7]\n",
    "\n",
    "b = sorted(a)  # 정렬 default: 오름차순\n",
    "print(a)\n",
    "print(b)\n",
    "print(\"=\" * 50)\n",
    "a.sort(reverse=True)  # 내림차순(게시판)\n",
    "print(a)"
   ]
  },
  {
   "cell_type": "markdown",
   "id": "5cf14755",
   "metadata": {},
   "source": [
    "### 2. tuple "
   ]
  },
  {
   "cell_type": "code",
   "execution_count": 27,
   "id": "82f7ce97",
   "metadata": {},
   "outputs": [
    {
     "name": "stdout",
     "output_type": "stream",
     "text": [
      "<class 'list'>\n",
      "<class 'tuple'>\n",
      "<class 'tuple'>\n",
      "[99, 2, 3]\n"
     ]
    },
    {
     "ename": "TypeError",
     "evalue": "'tuple' object does not support item assignment",
     "output_type": "error",
     "traceback": [
      "\u001b[1;31m---------------------------------------------------------------------------\u001b[0m",
      "\u001b[1;31mTypeError\u001b[0m                                 Traceback (most recent call last)",
      "\u001b[1;32mC:\\Users\\Public\\Documents\\ESTsoft\\CreatorTemp/ipykernel_10312/3087285017.py\u001b[0m in \u001b[0;36m<module>\u001b[1;34m\u001b[0m\n\u001b[0;32m     10\u001b[0m \u001b[0mprint\u001b[0m\u001b[1;33m(\u001b[0m\u001b[0ma\u001b[0m\u001b[1;33m)\u001b[0m\u001b[1;33m\u001b[0m\u001b[1;33m\u001b[0m\u001b[0m\n\u001b[0;32m     11\u001b[0m \u001b[1;33m\u001b[0m\u001b[0m\n\u001b[1;32m---> 12\u001b[1;33m \u001b[0mb\u001b[0m\u001b[1;33m[\u001b[0m\u001b[1;36m0\u001b[0m\u001b[1;33m]\u001b[0m \u001b[1;33m=\u001b[0m \u001b[1;36m99\u001b[0m\u001b[1;33m\u001b[0m\u001b[1;33m\u001b[0m\u001b[0m\n\u001b[0m\u001b[0;32m     13\u001b[0m \u001b[0mprint\u001b[0m\u001b[1;33m(\u001b[0m\u001b[0mb\u001b[0m\u001b[1;33m)\u001b[0m\u001b[1;33m\u001b[0m\u001b[1;33m\u001b[0m\u001b[0m\n",
      "\u001b[1;31mTypeError\u001b[0m: 'tuple' object does not support item assignment"
     ]
    }
   ],
   "source": [
    "a = [1, 2, 3]  # list type\n",
    "b = (1, 2, 3)  # tuple type\n",
    "c = 5, 6, 7  # tuple type 생략 가능\n",
    "\n",
    "print(type(a))\n",
    "print(type(b))\n",
    "print(type(c))\n",
    "\n",
    "a[0] = 99\n",
    "print(a)\n",
    "\n",
    "b[0] = 99  # 변경 불가능\n",
    "print(b)"
   ]
  },
  {
   "cell_type": "code",
   "execution_count": 28,
   "id": "2b22cb5a",
   "metadata": {},
   "outputs": [
    {
     "name": "stdout",
     "output_type": "stream",
     "text": [
      "1 2 3\n"
     ]
    }
   ],
   "source": [
    "# packing and unpacking\n",
    "# - list와 tuple 가능\n",
    "# - [], () -> 값을 묶음(packing)\n",
    "\n",
    "tuple_num = (1, 2, 3)  # packing\n",
    "a, b, c = tuple_num  # unpacking\n",
    "print(a, b, c)"
   ]
  },
  {
   "cell_type": "markdown",
   "id": "46d05116",
   "metadata": {},
   "source": [
    "### 연습문제\n",
    "변수 a와 b의 값을 교환하세요."
   ]
  },
  {
   "cell_type": "code",
   "execution_count": 33,
   "id": "0cd877b6",
   "metadata": {},
   "outputs": [
    {
     "name": "stdout",
     "output_type": "stream",
     "text": [
      "5\n",
      "9\n"
     ]
    }
   ],
   "source": [
    "a = 5\n",
    "b = 9\n",
    "\n",
    "# 코드 작성\n",
    "# 1. 임시 변수 사용\n",
    "temp = a\n",
    "a = b\n",
    "b = temp\n",
    "\n",
    "# 2. tuple() 사용\n",
    "a, b = b, a\n",
    "\n",
    "print(a)  # 출력 9\n",
    "print(b)  # 출력 5"
   ]
  },
  {
   "cell_type": "markdown",
   "id": "9cd6c822",
   "metadata": {},
   "source": [
    "### 3. dict"
   ]
  },
  {
   "cell_type": "code",
   "execution_count": 37,
   "id": "dc3d1f26",
   "metadata": {},
   "outputs": [
    {
     "name": "stdout",
     "output_type": "stream",
     "text": [
      "ottawa\n",
      "9\n"
     ]
    }
   ],
   "source": [
    "dict_a = {\"korea\" : \"seoul\",\n",
    "          \"canada\" : \"ottawa\",\n",
    "          \"usa\" : \"washingthon D.C\"}\n",
    "dict_b = {0:1, 1:6, 2:4, 3:9}\n",
    "print(dict_a[\"canada\"])\n",
    "print(dict_b[3])"
   ]
  },
  {
   "cell_type": "code",
   "execution_count": 43,
   "id": "5590bec9",
   "metadata": {},
   "outputs": [
    {
     "name": "stdout",
     "output_type": "stream",
     "text": [
      "{'canada': 'ottawa',\n",
      " 'japan': 'kyoto',\n",
      " 'japan2': 'kyoto',\n",
      " 'korea': 'seoul',\n",
      " 'usa': 'washingthon D.C'}\n"
     ]
    }
   ],
   "source": [
    "import pprint\n",
    "dict_a = {\"korea\" : \"seoul\",\n",
    "          \"canada\" : \"ottawa\",\n",
    "          \"usa\" : \"washingthon D.C\"}\n",
    "\n",
    "# 값을 입력 -> key값이 X(입력), key값이 O(수정)\n",
    "dict_a[\"japan\"] = \"tokyo\"\n",
    "dict_a[\"japan\"] = \"kyoto\"\n",
    "dict_a[\"japan2\"] = \"kyoto\"  # key 값 중복X value 값 중복O\n",
    "# print(dict_a)\n",
    "pprint.pprint(dict_a)"
   ]
  },
  {
   "cell_type": "code",
   "execution_count": 8,
   "id": "eceb29b8",
   "metadata": {},
   "outputs": [
    {
     "name": "stdout",
     "output_type": "stream",
     "text": [
      "{'a': 9, 'b': 2, 'd': 4, 'e': 5}\n"
     ]
    }
   ],
   "source": [
    "# update() : dict와 dict 결합\n",
    "a = {\n",
    "    \"a\" : 1,\n",
    "    \"b\" : 2\n",
    "}\n",
    "b = {\n",
    "    \"a\" : 9,\n",
    "    \"d\" : 4,\n",
    "    \"e\" : 5\n",
    "}\n",
    "a.update(b)\n",
    "print(a)"
   ]
  },
  {
   "cell_type": "code",
   "execution_count": 9,
   "id": "898094f4",
   "metadata": {
    "scrolled": true
   },
   "outputs": [
    {
     "name": "stdout",
     "output_type": "stream",
     "text": [
      "{'b': 2, 'd': 4, 'e': 5}\n",
      "9\n"
     ]
    }
   ],
   "source": [
    "# pop() : dict 항목 삭제\n",
    "c = a.pop(\"a\")\n",
    "print(a)\n",
    "print(c)"
   ]
  },
  {
   "cell_type": "code",
   "execution_count": 10,
   "id": "2e8378a1",
   "metadata": {},
   "outputs": [
    {
     "name": "stdout",
     "output_type": "stream",
     "text": [
      "5\n",
      "None\n"
     ]
    }
   ],
   "source": [
    "# 값 접근\n",
    "print(a[\"e\"])\n",
    "# print(a[\"f\"])\n",
    "print(a.get(\"f\"))"
   ]
  },
  {
   "cell_type": "code",
   "execution_count": 11,
   "id": "1d7d336c",
   "metadata": {},
   "outputs": [
    {
     "name": "stdout",
     "output_type": "stream",
     "text": [
      "True\n"
     ]
    }
   ],
   "source": [
    "# in\n",
    "print(\"b\" in a)"
   ]
  },
  {
   "cell_type": "code",
   "execution_count": 12,
   "id": "94e6561b",
   "metadata": {},
   "outputs": [
    {
     "name": "stdout",
     "output_type": "stream",
     "text": [
      "{'b': 2, 'd': 4, 'e': 5}\n",
      "{}\n"
     ]
    }
   ],
   "source": [
    "# clear() : dict 초기화\n",
    "print(a)\n",
    "a.clear()\n",
    "print(a)  # a 값이 안나왓는데....?"
   ]
  },
  {
   "cell_type": "code",
   "execution_count": 20,
   "id": "c4def2a7",
   "metadata": {},
   "outputs": [
    {
     "name": "stdout",
     "output_type": "stream",
     "text": [
      "{'a': 1, 'b': 2}\n",
      "dict_keys(['a', 'b'])\n",
      "<class 'dict_keys'>\n",
      "dict_values([1, 2])\n",
      "<class 'dict_values'>\n",
      "dict_items([('a', 1), ('b', 2)])\n",
      "<class 'dict_items'>\n",
      "['a', 'b']\n",
      "<class 'list'>\n",
      "[('a', 1), ('b', 2)]\n",
      "<class 'list'>\n",
      "<class 'tuple'>\n"
     ]
    }
   ],
   "source": [
    "# keys() : key값만 반환\n",
    "# values() : value값만 반환\n",
    "# items() : key, value를 튜플로 반환\n",
    "\n",
    "a = {\n",
    "    \"a\" : 1,\n",
    "    \"b\" : 2\n",
    "}\n",
    "print(a)\n",
    "print(a.keys())\n",
    "print(type(a.keys()))\n",
    "print(a.values())\n",
    "print(type(a.values()))\n",
    "print(a.items())\n",
    "print(type(a.items()))\n",
    "\n",
    "print(list(a.keys()))\n",
    "print(type(list(a.keys())))\n",
    "\n",
    "print(list(a.items()))\n",
    "\n",
    "val = list(a.items())\n",
    "\n",
    "print(type(val))\n",
    "print(type(val[0]))  # 중요함! 원하는 타입 찍어보기"
   ]
  },
  {
   "cell_type": "markdown",
   "id": "e649d5b1",
   "metadata": {},
   "source": [
    "### 4. set\n",
    "- 집합\n",
    "- 중복X\n",
    "- {} -> 빈칸이면 dict임 {1, 2, 3} -> set"
   ]
  },
  {
   "cell_type": "code",
   "execution_count": 24,
   "id": "3da8522c",
   "metadata": {},
   "outputs": [
    {
     "name": "stdout",
     "output_type": "stream",
     "text": [
      "[1, 1, 1, 2, 2, 2, 3, 3, 4, 4, 5]\n",
      "{1, 2, 3, 4, 5}\n",
      "<class 'dict'>\n"
     ]
    }
   ],
   "source": [
    "list_z = [1, 1, 1, 2, 2, 2, 3, 3, 4, 4, 5]\n",
    "print(list_z)\n",
    "\n",
    "set_a = set(list_z)\n",
    "print(set_a)\n",
    "\n",
    "# set? or dict?\n",
    "j = {}\n",
    "print(type(j))"
   ]
  },
  {
   "cell_type": "code",
   "execution_count": 26,
   "id": "499ec264",
   "metadata": {},
   "outputs": [
    {
     "name": "stdout",
     "output_type": "stream",
     "text": [
      "{1, 2, 3, 4}\n",
      "{2, 3}\n",
      "{1}\n",
      "False\n"
     ]
    }
   ],
   "source": [
    "a = {1, 2, 3}\n",
    "b = {2, 3, 4}\n",
    "\n",
    "print(a.union(b))         # 합집합\n",
    "print(a.intersection(b))  # 교집합\n",
    "print(a.difference(b))    # 차집합 \n",
    "print(a.issubset(b))      # 부분집합(b가 {1, 2, 3, 4}이면 )  # 이거 4개 함수 시험에 안나옴 외우지 말기!"
   ]
  }
 ],
 "metadata": {
  "kernelspec": {
   "display_name": "Python 3 (ipykernel)",
   "language": "python",
   "name": "python3"
  },
  "language_info": {
   "codemirror_mode": {
    "name": "ipython",
    "version": 3
   },
   "file_extension": ".py",
   "mimetype": "text/x-python",
   "name": "python",
   "nbconvert_exporter": "python",
   "pygments_lexer": "ipython3",
   "version": "3.9.7"
  }
 },
 "nbformat": 4,
 "nbformat_minor": 5
}
